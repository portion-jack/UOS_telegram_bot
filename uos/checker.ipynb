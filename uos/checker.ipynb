{
 "cells": [
  {
   "cell_type": "code",
   "execution_count": 3,
   "outputs": [],
   "source": [
    "from urllib.request import urlopen\n",
    "from bs4 import BeautifulSoup\n",
    "\n",
    "def uos_food():\n",
    "    url = \"https://www.uos.ac.kr/food/placeList.do\"\n",
    "\n",
    "    html = urlopen(url)\n",
    "    bsobject = BeautifulSoup(html, 'html.parser')\n",
    "    soup = bsobject.find_all('table')\n",
    "\n",
    "    # 아침\n",
    "    # morning=soup[0].find_all('td',class_='al')[0].get_text()\n",
    "\n",
    "    # 점심\n",
    "    _lunch=soup[0].find_all('td',class_='al')[1].get_text()\n",
    "    lunch=_lunch.split('코너')\n",
    "\n",
    "    for i, content in enumerate(lunch):\n",
    "        lunch[i] = (\"코너\" + content).replace(',','')\n",
    "\n",
    "    lunch=str(lunch[1:])[1:-1].replace(',','\\n')\n",
    "    # 저녁\n",
    "    _dinner=soup[0].find_all('td',class_='al')[2].get_text()\n",
    "    dinner=_dinner.split('코너')\n",
    "\n",
    "    for i, content in enumerate(dinner):\n",
    "        dinner[i] = (\"코너\" + content).replace(',','')\n",
    "    dinner=str(dinner[1:])[1:-1].replace(',','\\n')\n",
    "    return lunch, dinner\n",
    "\n"
   ],
   "metadata": {
    "collapsed": false,
    "pycharm": {
     "name": "#%%\n"
    }
   }
  },
  {
   "cell_type": "code",
   "execution_count": 7,
   "outputs": [],
   "source": [
    "url = \"https://www.uos.ac.kr/food/placeList.do\"\n",
    "html = urlopen(url)\n",
    "bsobject = BeautifulSoup(html, 'html.parser')\n",
    "soup = bsobject.find_all('table')\n",
    "\n",
    "# 아침\n",
    "morning=soup[0].find_all('td',class_='al')[0].get_text()\n",
    "# 점심\n",
    "lunch=soup[0].find_all('td',class_='al')[1].get_text()\n",
    "# 저녁\n",
    "dinner=soup[0].find_all('td',class_='al')[2].get_text()"
   ],
   "metadata": {
    "collapsed": false,
    "pycharm": {
     "name": "#%%\n"
    }
   }
  },
  {
   "cell_type": "code",
   "execution_count": 8,
   "outputs": [
    {
     "data": {
      "text/plain": "'코너 A 11:00~14:00(5,000원)치킨텐더샐러드chicken tender salad 닭:국내산코너 A11:00~14:00라면(Ramen) 2,000원(토핑:치즈,떡,만두,공기밥)오징어해장라면 2,800원삶은계란(steamed egg) 400원코너 C11:00~14:00(3,800원)얼큰순두부찌개Soft Tofu Stewsundubu jjigae너비아니&파채무침콩나물무침너비아니(계육,돈육:국내산)761kcal/27g\\n'"
     },
     "execution_count": 8,
     "metadata": {},
     "output_type": "execute_result"
    }
   ],
   "source": [
    "lunch"
   ],
   "metadata": {
    "collapsed": false,
    "pycharm": {
     "name": "#%%\n"
    }
   }
  },
  {
   "cell_type": "code",
   "execution_count": 57,
   "outputs": [
    {
     "name": "stdout",
     "output_type": "stream",
     "text": [
      "'코너 A15:00~17:00라면(Ramen) 2000원(토핑:치즈떡만두공기밥)오징어해장라면 2800원삶은계란(steamed egg) 400원'\n",
      " '코너 A 17:00~18:30(5000원)사과샌드위치Apple sandwich + salad'\n",
      " '코너 C17:00~18:30(3800원)미트스파게티Meat SpaghettiMeat Spaghetti김가루주먹밥양배추샐러드돈육:국내산928kcal/14g'\n"
     ]
    }
   ],
   "source": [
    "ans=dinner.split('코너')\n",
    "\n",
    "for i,content in enumerate(ans):\n",
    "    ans[i] = (\"코너\" + content).replace(',','').lstrip().rstrip()\n",
    "\n",
    "print(str(ans[1:])[1:-1].replace(',','\\n'))"
   ],
   "metadata": {
    "collapsed": false,
    "pycharm": {
     "name": "#%%\n"
    }
   }
  }
 ],
 "metadata": {
  "kernelspec": {
   "display_name": "Python 3",
   "language": "python",
   "name": "python3"
  },
  "language_info": {
   "codemirror_mode": {
    "name": "ipython",
    "version": 2
   },
   "file_extension": ".py",
   "mimetype": "text/x-python",
   "name": "python",
   "nbconvert_exporter": "python",
   "pygments_lexer": "ipython2",
   "version": "2.7.6"
  }
 },
 "nbformat": 4,
 "nbformat_minor": 0
}