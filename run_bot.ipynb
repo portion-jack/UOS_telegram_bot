{
 "cells": [
  {
   "cell_type": "code",
   "execution_count": 1,
   "metadata": {
    "collapsed": true,
    "pycharm": {
     "name": "#%%\n"
    }
   },
   "outputs": [],
   "source": [
    "from telegram.ext import Updater\n",
    "from telegram.ext import CommandHandler\n",
    "from private.bot_info import *\n",
    "\n",
    "updater = Updater(token=bot_token(),\n",
    "                  use_context=True)\n",
    "dispatcher = updater.dispatcher"
   ]
  },
  {
   "cell_type": "code",
   "execution_count": 2,
   "outputs": [],
   "source": [
    "from uos.uos_notice import *\n",
    "\n",
    "general_notice=get_general_notice()\n",
    "academic_notice=get_academic_notice()\n",
    "scholarship_notice=get_scholarship_notice()\n",
    "\n",
    "total_notice = general_notice + academic_notice + scholarship_notice\n",
    "\n",
    "from uos.uos_food import *\n",
    "lunch,dinner = uos_food()\n",
    "\n",
    "from weather.weather import *\n",
    "get_wether()"
   ],
   "metadata": {
    "collapsed": false,
    "pycharm": {
     "name": "#%%\n"
    }
   }
  },
  {
   "cell_type": "code",
   "execution_count": 4,
   "outputs": [
    {
     "data": {
      "text/plain": "'[🔥2022-09-07의 공지!🔥\\n ---일반 공지사항---\\n [입학처] UOS 생활 안정 지원 프로그램 신청 안내\\n [학생미래지원센터] 2022년 하반기 삼성SDS 오프라인 채용 상담회(9/7)\\n [학생미래지원센터] 22년 하반기 삼성디스플레이 Day(캠퍼스 리크루팅)(9/7~9/8)\\n [학생미래지원센터] 온라인 현직자 직무 클래스 신청 안내\\n [학생미래지원센터] 학업설계상담 후속 프로그램 수요조사 참여 안내\\n ★ 2022학년도 1학년 진로 교과목 「UOS 미래디자인 세미나」 수강신청 안내 ★]'"
     },
     "execution_count": 4,
     "metadata": {},
     "output_type": "execute_result"
    }
   ],
   "source": [],
   "metadata": {
    "collapsed": false,
    "pycharm": {
     "name": "#%%\n"
    }
   }
  },
  {
   "cell_type": "code",
   "execution_count": 6,
   "outputs": [
    {
     "data": {
      "text/plain": "<queue.Queue at 0x106054910>"
     },
     "execution_count": 6,
     "metadata": {},
     "output_type": "execute_result"
    }
   ],
   "source": [
    "# bot_response by command\n",
    "\n",
    "# 1. base\n",
    "# 1.2 checker\n",
    "def hello(update,context):\n",
    "    context.bot.send_message(chat_id=update.effective_chat.id,\n",
    "                             text=\"안녕하세요! 시립대 봇입니다!\")\n",
    "    return None\n",
    "\n",
    "# 1.1. helper\n",
    "def bot_helper(update,context):\n",
    "    context.bot.send_message(chat_id=update.effective_chat.id,\n",
    "                             text=\"/hi -> 안녕하세요\\n\"\n",
    "                                  \"\\n/notice_total -> 일반, 학사, 장학공지\\n\"\n",
    "                                  \"      /notice_general      -> 일반 공지\\n\"\n",
    "                                  \"      /notice_academic     -> 학사 공지\\n\"\n",
    "                                  \"      /notice_scholarship  -> 장학 공지\\n\"\n",
    "                                  \"\\n /weather -> 학교 날씨\\n\"\n",
    "                                  \"\\n/lunch -> 학식 점심\\n\"\n",
    "                                  \"\\n/dinner -> 학식 저녁\\n\"\n",
    "                                  \"\\n/lib -> 도서관 홈페이지\\n\"\n",
    "                                  \"\\n/map ->학교지도\")\n",
    "    return None\n",
    "\n",
    "# 2. UOS\n",
    "# 2.1 notice\n",
    "def uos_notice_total(update,context):\n",
    "    context.bot.send_message(chat_id=update.effective_chat.id,\n",
    "                             text=total_notice[1:-1])\n",
    "    return None\n",
    "\n",
    "def uos_notice_general(update,context):\n",
    "    context.bot.send_message(chat_id=update.effective_chat.id,\n",
    "                             text=general_notice[1:-1])\n",
    "    return None\n",
    "\n",
    "def uos_notice_academic(update,context):\n",
    "    context.bot.send_message(chat_id=update.effective_chat.id,\n",
    "                             text=academic_notice[1:-1])\n",
    "    return None\n",
    "\n",
    "def uos_notice_scholarship(update,context):\n",
    "    context.bot.send_message(chat_id=update.effective_chat.id,\n",
    "                             text=scholarship_notice[1:-1])\n",
    "    return None\n",
    "\n",
    "# 2.2 weather\n",
    "def uos_weather(update,context):\n",
    "    context.bot.send_photo(chat_id=update.effective_chat.id,\n",
    "                           photo=open('weather.png','rb'))\n",
    "# 2.2 map\n",
    "def uos_map(update,context):\n",
    "    context.bot.send_photo(chat_id=update.effective_chat.id,\n",
    "                           photo=open(\"dir_img/uos_map.jpeg\",'rb'))\n",
    "\n",
    "# 2.3 food\n",
    "def uos_lunch(update,context):\n",
    "    context.bot.send_message(chat_id=update.effective_chat.id,\n",
    "                             text=lunch)\n",
    "    return None\n",
    "\n",
    "def uos_dinner(update,context):\n",
    "    context.bot.send_message(chat_id=update.effective_chat.id,\n",
    "                             text=dinner)\n",
    "    return None\n",
    "# 2.4 links\n",
    "def uos_library(update,context):\n",
    "    context.bot.send_message(chat_id=update.effective_chat.id,\n",
    "                              text='https://library.uos.ac.kr/')\n",
    "    return None\n",
    "\n",
    "\n",
    "hello_handler = CommandHandler('hi',hello)\n",
    "helper_handler = CommandHandler('help',bot_helper)\n",
    "\n",
    "notice_total_handler = CommandHandler('notice_total',uos_notice_total)\n",
    "notice_general_handler = CommandHandler('notice_general',uos_notice_general)\n",
    "notice_academic_handler = CommandHandler('notice_academic',uos_notice_academic)\n",
    "notice_scholarship_handler = CommandHandler('notice_scholarship',uos_notice_scholarship)\n",
    "\n",
    "weather_handler = CommandHandler('weather',uos_weather)\n",
    "\n",
    "lunch_handler = CommandHandler('lunch',uos_lunch)\n",
    "dinner_handler = CommandHandler('dinner',uos_dinner)\n",
    "\n",
    "library_handler = CommandHandler(\"lib\",uos_library)\n",
    "map_handler = CommandHandler('map',uos_map)\n",
    "\n",
    "dispatcher.add_handler(hello_handler)\n",
    "dispatcher.add_handler(helper_handler)\n",
    "\n",
    "dispatcher.add_handler(notice_total_handler)\n",
    "dispatcher.add_handler(notice_general_handler)\n",
    "dispatcher.add_handler(notice_academic_handler)\n",
    "dispatcher.add_handler(notice_scholarship_handler)\n",
    "\n",
    "dispatcher.add_handler(weather_handler)\n",
    "\n",
    "dispatcher.add_handler(lunch_handler)\n",
    "dispatcher.add_handler(dinner_handler)\n",
    "\n",
    "dispatcher.add_handler(library_handler)\n",
    "\n",
    "dispatcher.add_handler(map_handler)\n",
    "\n",
    "# bot_response by command\n",
    "\n",
    "updater.start_polling()"
   ],
   "metadata": {
    "collapsed": false,
    "pycharm": {
     "name": "#%%\n"
    }
   }
  },
  {
   "cell_type": "code",
   "execution_count": null,
   "outputs": [],
   "source": [],
   "metadata": {
    "collapsed": false,
    "pycharm": {
     "name": "#%%\n"
    }
   }
  }
 ],
 "metadata": {
  "kernelspec": {
   "display_name": "Python 3",
   "language": "python",
   "name": "python3"
  },
  "language_info": {
   "codemirror_mode": {
    "name": "ipython",
    "version": 2
   },
   "file_extension": ".py",
   "mimetype": "text/x-python",
   "name": "python",
   "nbconvert_exporter": "python",
   "pygments_lexer": "ipython2",
   "version": "2.7.6"
  }
 },
 "nbformat": 4,
 "nbformat_minor": 0
}