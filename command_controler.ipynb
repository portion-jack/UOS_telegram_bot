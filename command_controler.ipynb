{
 "cells": [
  {
   "cell_type": "code",
   "execution_count": 1,
   "outputs": [],
   "source": [
    "from telegram.ext import Updater\n",
    "from telegram.ext import CommandHandler\n",
    "\n",
    "updater = Updater(token=\"5781653416:AAHY5lYxGeYk6jYItuZvZm3DH5TXTdIkO80\",\n",
    "                  use_context=True)\n",
    "dispatcher = updater.dispatcher"
   ],
   "metadata": {
    "collapsed": false,
    "pycharm": {
     "name": "#%%\n"
    }
   }
  },
  {
   "cell_type": "code",
   "execution_count": 2,
   "metadata": {
    "collapsed": true,
    "pycharm": {
     "name": "#%%\n"
    }
   },
   "outputs": [
    {
     "data": {
      "text/plain": "<queue.Queue at 0x11110af70>"
     },
     "execution_count": 2,
     "metadata": {},
     "output_type": "execute_result"
    }
   ],
   "source": [
    "from UOS_Handler import *\n",
    "notice = bring_notice()\n",
    "\n",
    "def hello(update,context):\n",
    "    context.bot.send_message(chat_id=update.effective_chat.id,\n",
    "                             text=\"안녕하세요\")\n",
    "    return None\n",
    "\n",
    "def uos_notice(update,context):\n",
    "    context.bot.send_message(chat_id=update.effective_chat.id,\n",
    "                             text=notice)\n",
    "    return None\n",
    "\n",
    "hello_handler = CommandHandler('hi',hello)\n",
    "notice_handler = CommandHandler('notice',uos_notice)\n",
    "\n",
    "dispatcher.add_handler(hello_handler)\n",
    "dispatcher.add_handler(notice_handler)\n",
    "\n",
    "updater.start_polling()"
   ]
  },
  {
   "cell_type": "code",
   "execution_count": null,
   "outputs": [],
   "source": [],
   "metadata": {
    "collapsed": false,
    "pycharm": {
     "name": "#%%\n"
    }
   }
  }
 ],
 "metadata": {
  "kernelspec": {
   "display_name": "Python 3",
   "language": "python",
   "name": "python3"
  },
  "language_info": {
   "codemirror_mode": {
    "name": "ipython",
    "version": 2
   },
   "file_extension": ".py",
   "mimetype": "text/x-python",
   "name": "python",
   "nbconvert_exporter": "python",
   "pygments_lexer": "ipython2",
   "version": "2.7.6"
  }
 },
 "nbformat": 4,
 "nbformat_minor": 0
}